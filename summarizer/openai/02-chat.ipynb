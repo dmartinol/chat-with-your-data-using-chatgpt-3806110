{
 "cells": [
  {
   "cell_type": "code",
   "execution_count": 26,
   "id": "603889ff-e355-4c9e-929a-45e8150aa0f7",
   "metadata": {},
   "outputs": [
    {
     "name": "stdout",
     "output_type": "stream",
     "text": [
      "\n",
      "\u001b[1m[\u001b[0m\u001b[34;49mnotice\u001b[0m\u001b[1;39;49m]\u001b[0m\u001b[39;49m A new release of pip is available: \u001b[0m\u001b[31;49m24.0\u001b[0m\u001b[39;49m -> \u001b[0m\u001b[32;49m24.3.1\u001b[0m\n",
      "\u001b[1m[\u001b[0m\u001b[34;49mnotice\u001b[0m\u001b[1;39;49m]\u001b[0m\u001b[39;49m To update, run: \u001b[0m\u001b[32;49mpip install --upgrade pip\u001b[0m\n",
      "Note: you may need to restart the kernel to use updated packages.\n"
     ]
    }
   ],
   "source": [
    "%pip install -q -r requirements.txt"
   ]
  },
  {
   "cell_type": "code",
   "execution_count": 27,
   "id": "61faf199",
   "metadata": {},
   "outputs": [],
   "source": [
    "import os\n",
    "\n",
    "from dotenv import load_dotenv, find_dotenv\n",
    "from langchain import hub\n",
    "from langchain_community.vectorstores import FAISS\n",
    "from langchain_core.output_parsers import StrOutputParser\n",
    "from langchain_core.runnables import RunnablePassthrough\n",
    "from langchain_openai import ChatOpenAI, OpenAIEmbeddings"
   ]
  },
  {
   "cell_type": "code",
   "execution_count": 28,
   "id": "b694cfeb-1653-4555-84ce-875b3885150f",
   "metadata": {},
   "outputs": [],
   "source": [
    "def print_output(docs):\n",
    "    for i, doc in enumerate(docs):\n",
    "        print(\n",
    "            \">>>{}: The output is: {}. \\n\\nThe metadata is {} \\n\\n\".format(\n",
    "                i + 1,\n",
    "                (\n",
    "                    doc.page_content[:100] + \"...\"\n",
    "                    if len(doc.page_content) > 100\n",
    "                    else doc.page_content\n",
    "                ),\n",
    "                doc.metadata,\n",
    "            )\n",
    "        )"
   ]
  },
  {
   "cell_type": "code",
   "execution_count": 29,
   "id": "77f69144-98d1-46a1-94be-8eea00065278",
   "metadata": {},
   "outputs": [],
   "source": [
    "_ = load_dotenv(find_dotenv()) # read local .env file\n",
    "\n",
    "OPENAI_API_KEY=os.environ['OPENAI_API_KEY']"
   ]
  },
  {
   "cell_type": "code",
   "execution_count": 30,
   "id": "0788aef1-0fe8-4205-ba3d-741bb5cf392a",
   "metadata": {},
   "outputs": [],
   "source": [
    "db = FAISS.load_local(\"summarizer_index\", \n",
    "                      OpenAIEmbeddings(openai_api_key=OPENAI_API_KEY, model=\"text-embedding-3-small\"), \n",
    "                      allow_dangerous_deserialization=True)"
   ]
  },
  {
   "cell_type": "code",
   "execution_count": 31,
   "id": "82dd70e3-e3ca-4b2d-a238-3ed466e41618",
   "metadata": {},
   "outputs": [],
   "source": [
    "question = \"\"\"\n",
    "Given the development and individual item reports and the LinkedIn profile description,\n",
    "generate a short profile summary of this person, highlighting the achievements\n",
    "and skills.\n",
    "Use generic terms instead of specific examples.\n",
    "Apply skills categories when possible.\n",
    "\"\"\"\n",
    "docs = db.similarity_search(question)"
   ]
  },
  {
   "cell_type": "code",
   "execution_count": 32,
   "id": "ff62b2cc-cebc-43ab-a2ff-d785f40ca73c",
   "metadata": {},
   "outputs": [
    {
     "name": "stdout",
     "output_type": "stream",
     "text": [
      ">>>1: The output is: My Development Items\n",
      " 02:35 PM\n",
      "11/18/2024\n",
      "Page 1 of 5\n",
      "Daniele Martinoli\n",
      "Development Item\n",
      "Effective c.... \n",
      "\n",
      "The metadata is {'source': '../../docs/My_Development_Items.pdf', 'page': 0} \n",
      "\n",
      "\n",
      ">>>2: The output is: My Development Items\n",
      " 02:35 PM\n",
      "11/18/2024\n",
      "Page 4 of 5\n",
      "Skills to Develop\n",
      "Relates To\n",
      "Influence (Compet.... \n",
      "\n",
      "The metadata is {'source': '../../docs/My_Development_Items.pdf', 'page': 3} \n",
      "\n",
      "\n",
      ">>>3: The output is: Status\n",
      "Complete\n",
      "Start Date\n",
      "Completion Date\n",
      "Status Note\n",
      "Development Item\n",
      "Learn about the Red Hat prod.... \n",
      "\n",
      "The metadata is {'source': '../../docs/My_Development_Items.pdf', 'page': 2} \n",
      "\n",
      "\n",
      ">>>4: The output is: Provider and Enterprise markets.\n",
      "• Recognized go-to problem solver with analytical mindset,\n",
      "collabor.... \n",
      "\n",
      "The metadata is {'source': '../../docs/Profile.pdf', 'page': 0} \n",
      "\n",
      "\n"
     ]
    }
   ],
   "source": [
    "print_output(docs)"
   ]
  },
  {
   "cell_type": "code",
   "execution_count": 33,
   "id": "c22c491f",
   "metadata": {},
   "outputs": [],
   "source": [
    "# initialize the LLM we'll use - OpenAI GPT 3.5 Turbo\n",
    "llm = ChatOpenAI(openai_api_key=OPENAI_API_KEY, model=\"gpt-3.5-turbo-0125\")"
   ]
  },
  {
   "cell_type": "code",
   "execution_count": 34,
   "id": "8b513bd7",
   "metadata": {},
   "outputs": [],
   "source": [
    "retriever = db.as_retriever(search_type=\"similarity\", search_kwargs={\"k\": 10})"
   ]
  },
  {
   "cell_type": "code",
   "execution_count": 35,
   "id": "c6f69b09",
   "metadata": {},
   "outputs": [
    {
     "name": "stderr",
     "output_type": "stream",
     "text": [
      "/Users/dmartino/projects/AI/learning/chat-with-your-data-using-chatgpt-3806110/venv/lib/python3.11/site-packages/langsmith/client.py:241: LangSmithMissingAPIKeyWarning: API key must be provided when using hosted LangSmith API\n",
      "  warnings.warn(\n"
     ]
    }
   ],
   "source": [
    "prompt = hub.pull(\"rlm/rag-prompt\")"
   ]
  },
  {
   "cell_type": "code",
   "execution_count": 36,
   "id": "deb9901e",
   "metadata": {},
   "outputs": [
    {
     "data": {
      "text/plain": [
       "ChatPromptTemplate(input_variables=['context', 'question'], input_types={}, partial_variables={}, metadata={'lc_hub_owner': 'rlm', 'lc_hub_repo': 'rag-prompt', 'lc_hub_commit_hash': '50442af133e61576e74536c6556cefe1fac147cad032f4377b60c436e6cdcb6e'}, messages=[HumanMessagePromptTemplate(prompt=PromptTemplate(input_variables=['context', 'question'], input_types={}, partial_variables={}, template=\"You are an assistant for question-answering tasks. Use the following pieces of retrieved context to answer the question. If you don't know the answer, just say that you don't know. Use three sentences maximum and keep the answer concise.\\nQuestion: {question} \\nContext: {context} \\nAnswer:\"), additional_kwargs={})])"
      ]
     },
     "execution_count": 36,
     "metadata": {},
     "output_type": "execute_result"
    }
   ],
   "source": [
    "prompt"
   ]
  },
  {
   "cell_type": "code",
   "execution_count": 37,
   "id": "e8fbec9b",
   "metadata": {},
   "outputs": [],
   "source": [
    "def format_docs(docs):\n",
    "    return \"\\n\\n\".join(doc.page_content for doc in docs)\n",
    "\n",
    "\n",
    "# combine multiple steps in a single chain\n",
    "rag_chain = (\n",
    "    {\"context\": retriever | format_docs, \"question\": RunnablePassthrough()}\n",
    "    | prompt\n",
    "    | llm\n",
    "    | StrOutputParser()  # convert the chat message to a string\n",
    ")"
   ]
  },
  {
   "cell_type": "code",
   "execution_count": 41,
   "id": "57b73dc8",
   "metadata": {},
   "outputs": [],
   "source": [
    "question = \"\"\"\n",
    "You are the person for which we provide the development and individual item reports\n",
    "and the LinkedIn profile description.\n",
    "Generate a profile description for yourself.\n",
    "The profile must include:\n",
    "- one paragraph with the description of professional role, highlighting the competences\n",
    "- one paragraph with a comma separated list of recent achievements\n",
    "- one paragraph with a comma separated list of skills\n",
    "\n",
    "Use first person as \"I am\" instead of \"He is\".\n",
    "Use generic terms instead of specific examples: \"DevOps\" instead of \"Jenkins\".\n",
    "Avoid to mention customer names like Temenos.\n",
    "Use skills categorizies when possible.\n",
    "At the end of each sentence add a list of the reference source files.\n",
    "At the end of the response, include a count of words.\n",
    "\"\"\""
   ]
  },
  {
   "cell_type": "code",
   "execution_count": 42,
   "id": "a1ab3171",
   "metadata": {},
   "outputs": [
    {
     "name": "stdout",
     "output_type": "stream",
     "text": [
      "I am a Principal Software Engineer with 20+ years of experience in software architecture and development in the Provider and Enterprise markets. I excel in software architecture, design, and development, with expertise in Java, Spring, Hibernate, and Agile (Scrum) methodologies (source: Resume, Development Items, Experience). Recent achievements include being recognized as a go-to problem solver, earning the highest technical grade in the company, and constantly earning the trust of management boards (source: Resume, Experience, Development Items). My skills include Software Architecture, TDD, MDD, Java, Spring, Hibernate, REST, and Agile (Scrum) (source: Resume). Word count: 69."
     ]
    }
   ],
   "source": [
    "for chunk in rag_chain.stream(\n",
    "    question\n",
    "):\n",
    "    print(chunk, end=\"\", flush=True)"
   ]
  },
  {
   "cell_type": "code",
   "execution_count": null,
   "id": "42ac5cc4",
   "metadata": {},
   "outputs": [],
   "source": []
  },
  {
   "cell_type": "code",
   "execution_count": null,
   "id": "1e0683ff",
   "metadata": {},
   "outputs": [],
   "source": []
  }
 ],
 "metadata": {
  "kernelspec": {
   "display_name": "venv",
   "language": "python",
   "name": "python3"
  },
  "language_info": {
   "codemirror_mode": {
    "name": "ipython",
    "version": 3
   },
   "file_extension": ".py",
   "mimetype": "text/x-python",
   "name": "python",
   "nbconvert_exporter": "python",
   "pygments_lexer": "ipython3",
   "version": "3.11.9"
  }
 },
 "nbformat": 4,
 "nbformat_minor": 5
}
