{
 "cells": [
  {
   "cell_type": "code",
   "execution_count": 25,
   "id": "603889ff-e355-4c9e-929a-45e8150aa0f7",
   "metadata": {},
   "outputs": [
    {
     "name": "stdout",
     "output_type": "stream",
     "text": [
      "\n",
      "\u001b[1m[\u001b[0m\u001b[34;49mnotice\u001b[0m\u001b[1;39;49m]\u001b[0m\u001b[39;49m A new release of pip is available: \u001b[0m\u001b[31;49m24.0\u001b[0m\u001b[39;49m -> \u001b[0m\u001b[32;49m24.3.1\u001b[0m\n",
      "\u001b[1m[\u001b[0m\u001b[34;49mnotice\u001b[0m\u001b[1;39;49m]\u001b[0m\u001b[39;49m To update, run: \u001b[0m\u001b[32;49mpip install --upgrade pip\u001b[0m\n",
      "Note: you may need to restart the kernel to use updated packages.\n"
     ]
    }
   ],
   "source": [
    "%pip install -q -r requirements.txt"
   ]
  },
  {
   "cell_type": "code",
   "execution_count": 2,
   "id": "61faf199",
   "metadata": {},
   "outputs": [],
   "source": [
    "import os\n",
    "\n",
    "from dotenv import load_dotenv, find_dotenv\n",
    "from langchain import hub\n",
    "from langchain_community.vectorstores import FAISS\n",
    "from langchain_core.output_parsers import StrOutputParser\n",
    "from langchain_core.runnables import RunnablePassthrough\n",
    "from langchain_openai import ChatOpenAI, OpenAIEmbeddings"
   ]
  },
  {
   "cell_type": "code",
   "execution_count": 3,
   "id": "b694cfeb-1653-4555-84ce-875b3885150f",
   "metadata": {},
   "outputs": [],
   "source": [
    "def print_output(docs):\n",
    "    for doc in docs:\n",
    "        print('The output is: {}. \\n\\nThe metadata is {} \\n\\n'.\n",
    "              format(doc.page_content, doc.metadata))    "
   ]
  },
  {
   "cell_type": "code",
   "execution_count": 4,
   "id": "77f69144-98d1-46a1-94be-8eea00065278",
   "metadata": {},
   "outputs": [],
   "source": [
    "_ = load_dotenv(find_dotenv()) # read local .env file\n",
    "\n",
    "OPENAI_API_KEY=os.environ['OPENAI_API_KEY']"
   ]
  },
  {
   "cell_type": "code",
   "execution_count": 5,
   "id": "0788aef1-0fe8-4205-ba3d-741bb5cf392a",
   "metadata": {},
   "outputs": [],
   "source": [
    "db = FAISS.load_local(\"summarizer_index\", \n",
    "                      OpenAIEmbeddings(openai_api_key=OPENAI_API_KEY, model=\"text-embedding-3-small\"), \n",
    "                      allow_dangerous_deserialization=True)"
   ]
  },
  {
   "cell_type": "code",
   "execution_count": 6,
   "id": "82dd70e3-e3ca-4b2d-a238-3ed466e41618",
   "metadata": {},
   "outputs": [],
   "source": [
    "question = \"\"\"\n",
    "Given the development and individual item reports and the LinkedIn profile description,\n",
    "generate a short profile summary of this person, highlighting the achievements\n",
    "and skills.\n",
    "Use generic terms instead of specific examples.\n",
    "Apply skills categories when possible.\n",
    "\"\"\"\n",
    "docs = db.similarity_search(question)"
   ]
  },
  {
   "cell_type": "code",
   "execution_count": 7,
   "id": "ff62b2cc-cebc-43ab-a2ff-d785f40ca73c",
   "metadata": {},
   "outputs": [
    {
     "name": "stdout",
     "output_type": "stream",
     "text": [
      "The output is: My Development Items\n",
      " 02:35 PM\n",
      "11/18/2024\n",
      "Page 1 of 5\n",
      "Daniele Martinoli\n",
      "Development Item\n",
      "Effective communication\n",
      "Additional Information\n",
      "Creating comprehensible and appealing presentations.\n",
      "Understanding the real needs of the partners and being able to translate it to the recommended Red Hat architecture and solution.\n",
      "Skills to Develop\n",
      "Relates To\n",
      "Status\n",
      "In Progress\n",
      "Start Date\n",
      "Completion Date\n",
      "12/31/2023\n",
      "Status Note\n",
      "Picked some useful video trainings from LinkedIn Learning to start this task \n",
      "July 23: Started listening \"Amplifying Your Message Through Powerful Framing and Storytelling\" podcast on LinkeId Learnings \n",
      "https://www.linkedin.com/learning/amplifying-your-message-through-powerful-framing-and-storytelling \n",
      "------------ \n",
      "July 25, 2023 update \n",
      "It was not a meaningful learning, more dedicated to people who want to sell their ideas, and it's not me. \n",
      "Have to look for something different.\n",
      "Development Item\n",
      "Learning AI\n",
      "Additional Information. \n",
      "\n",
      "The metadata is {'source': '../../docs/My_Development_Items.pdf', 'page': 0} \n",
      "\n",
      "\n",
      "The output is: My Development Items\n",
      " 02:35 PM\n",
      "11/18/2024\n",
      "Page 4 of 5\n",
      "Skills to Develop\n",
      "Relates To\n",
      "Influence (Competency)\n",
      "Status\n",
      "Complete\n",
      "Start Date\n",
      "Completion Date\n",
      "Status Note\n",
      "Development Item\n",
      "Understand and Experience the RedHat Development Life Cycle \n",
      "Additional Information\n",
      "Understand how contribution to communities is being done at RedHat \n",
      "Try out your first full contribution to a project\n",
      "Skills to Develop\n",
      "Relates To\n",
      "Execution (Competency)\n",
      "Status\n",
      "Complete\n",
      "Start Date\n",
      "Completion Date\n",
      "09/30/2021\n",
      "Status Note\n",
      "Development Item\n",
      "Understanding Cloud Architecture patterns\n",
      "Additional Information\n",
      "Extending and experiencing cloud architecture patterns by learning the theory and applying it in practice\n",
      "Skills to Develop\n",
      "Relates To\n",
      "Continuous Learning (Competency) \n",
      "Execution (Competency) \n",
      "Strategic (Competency)\n",
      "Status\n",
      "Complete\n",
      "Start Date\n",
      "Completion Date\n",
      "Status Note. \n",
      "\n",
      "The metadata is {'source': '../../docs/My_Development_Items.pdf', 'page': 3} \n",
      "\n",
      "\n",
      "The output is: Status\n",
      "Complete\n",
      "Start Date\n",
      "Completion Date\n",
      "Status Note\n",
      "Development Item\n",
      "Learn about the Red Hat product portfolio\n",
      "Additional Information\n",
      "Gain an understanding of Red Hat technology and a good sense of the features and capabilities of products, in particular OpenShift Container \n",
      "Platform and everything up the stack from there\n",
      "Skills to Develop\n",
      "Relates To\n",
      "Portfolio Excellence (Competency)\n",
      "Status\n",
      "Complete\n",
      "Start Date\n",
      "Completion Date\n",
      "Status Note\n",
      "Development Item\n",
      "Red Hat Organization and dynamics \n",
      "Additional Information\n",
      "Understand Red Hat divisions, relationships and organizations \n",
      "Understand the Open Source development process and productization concerns. \n",
      "\n",
      "The metadata is {'source': '../../docs/My_Development_Items.pdf', 'page': 2} \n",
      "\n",
      "\n",
      "The output is: Provider and Enterprise markets.\n",
      "• Recognized go-to problem solver with analytical mindset,\n",
      "collaborative spirit and firm commitment to achieve planned goals.\n",
      "With proven technical excellence, make a difference and inspire the\n",
      "development team (up to 200+ people, worldwide).\n",
      "• Strong educational background and genuine, endless motivation\n",
      "for learning, able to master and apply new concepts quickly and\n",
      "efficiently.\n",
      "• Constantly earned trust of the management boards and finally\n",
      "reached the highest technical grade in the company, thanks to a\n",
      "proven track record of top-ranking performance evaluations.\n",
      "Areas of expertise:\n",
      "Software Architecture, Design and Development | TDD | MDD | Java\n",
      "| Spring | Hibernate | REST | Agile (Scrum) \n",
      "That's me, sort of.\n",
      "You can find the full details on the Resume that you can request by\n",
      "sending me a message on LinkedIn. Thankyou!\n",
      "Experience\n",
      "Red Hat\n",
      "3 years 6 months\n",
      "Principal Software Engineer at Red Hat\n",
      "July 2022 - Present (2 years 5 months)\n",
      "Remote. \n",
      "\n",
      "The metadata is {'source': '../../docs/Profile.pdf', 'page': 0} \n",
      "\n",
      "\n"
     ]
    }
   ],
   "source": [
    "print_output(docs)"
   ]
  },
  {
   "cell_type": "code",
   "execution_count": 8,
   "id": "c22c491f",
   "metadata": {},
   "outputs": [],
   "source": [
    "# initialize the LLM we'll use - OpenAI GPT 3.5 Turbo\n",
    "llm = ChatOpenAI(openai_api_key=OPENAI_API_KEY, model=\"gpt-3.5-turbo-0125\")"
   ]
  },
  {
   "cell_type": "code",
   "execution_count": 9,
   "id": "8b513bd7",
   "metadata": {},
   "outputs": [],
   "source": [
    "retriever = db.as_retriever(search_type=\"similarity\", search_kwargs={\"k\": 10})"
   ]
  },
  {
   "cell_type": "code",
   "execution_count": 10,
   "id": "c6f69b09",
   "metadata": {},
   "outputs": [
    {
     "name": "stderr",
     "output_type": "stream",
     "text": [
      "/Users/dmartino/projects/AI/learning/chat-with-your-data-using-chatgpt-3806110/venv/lib/python3.11/site-packages/langsmith/client.py:241: LangSmithMissingAPIKeyWarning: API key must be provided when using hosted LangSmith API\n",
      "  warnings.warn(\n"
     ]
    }
   ],
   "source": [
    "prompt = hub.pull(\"rlm/rag-prompt\")"
   ]
  },
  {
   "cell_type": "code",
   "execution_count": 11,
   "id": "deb9901e",
   "metadata": {},
   "outputs": [
    {
     "data": {
      "text/plain": [
       "ChatPromptTemplate(input_variables=['context', 'question'], input_types={}, partial_variables={}, metadata={'lc_hub_owner': 'rlm', 'lc_hub_repo': 'rag-prompt', 'lc_hub_commit_hash': '50442af133e61576e74536c6556cefe1fac147cad032f4377b60c436e6cdcb6e'}, messages=[HumanMessagePromptTemplate(prompt=PromptTemplate(input_variables=['context', 'question'], input_types={}, partial_variables={}, template=\"You are an assistant for question-answering tasks. Use the following pieces of retrieved context to answer the question. If you don't know the answer, just say that you don't know. Use three sentences maximum and keep the answer concise.\\nQuestion: {question} \\nContext: {context} \\nAnswer:\"), additional_kwargs={})])"
      ]
     },
     "execution_count": 11,
     "metadata": {},
     "output_type": "execute_result"
    }
   ],
   "source": [
    "prompt"
   ]
  },
  {
   "cell_type": "code",
   "execution_count": 12,
   "id": "e8fbec9b",
   "metadata": {},
   "outputs": [],
   "source": [
    "def format_docs(docs):\n",
    "    return \"\\n\\n\".join(doc.page_content for doc in docs)\n",
    "\n",
    "\n",
    "# combine multiple steps in a single chain\n",
    "rag_chain = (\n",
    "    {\"context\": retriever | format_docs, \"question\": RunnablePassthrough()}\n",
    "    | prompt\n",
    "    | llm\n",
    "    | StrOutputParser()  # convert the chat message to a string\n",
    ")"
   ]
  },
  {
   "cell_type": "code",
   "execution_count": 23,
   "id": "57b73dc8",
   "metadata": {},
   "outputs": [],
   "source": [
    "question = \"\"\"\n",
    "You are the person for which we provide the development and individual item reports\n",
    "and the LinkedIn profile description.\n",
    "Generate a profile description for yourself.\n",
    "The profile must include:\n",
    "- one paragraph with the description of professional role, highlighting the competences\n",
    "- one paragraph with a comma separated list of recent achievements\n",
    "- one paragraph with a comma separated list of skills\n",
    "\n",
    "Use first person as \"I am\" instead of \"He is\".\n",
    "Use generic terms instead of specific examples: \"DevOps\" instead of \"Jenkins\".\n",
    "Avoid to mention customer names like Temenos.\n",
    "Use skills categorizies when possible.\n",
    "At the end of each sentence add a list of the reference source files.\n",
    "At he end of the response, include a count of words.\n",
    "\"\"\""
   ]
  },
  {
   "cell_type": "code",
   "execution_count": 24,
   "id": "a1ab3171",
   "metadata": {},
   "outputs": [
    {
     "name": "stdout",
     "output_type": "stream",
     "text": [
      "I am a Principal Software Engineer with a proven track record in software architecture, design, and development, specializing in Java, Spring, Hibernate, and Agile methodologies (Scrum). I excel in problem-solving with an analytical mindset and have a strong educational background, always eager to learn and apply new concepts efficiently (LinkedIn profile description, Resume).\n",
      "\n",
      "Recent achievements include inspiring a 200+ member development team, earning the highest technical grade in the company, and constantly delivering top-ranking performance evaluations (Reference source: Resume). Skills include Software Architecture, TDD, MDD, Java, Spring, Hibernate, REST, and Agile methodologies (Scrum) (LinkedIn profile description, Resume).\n",
      "\n",
      "My skills encompass Software Architecture, Design and Development, Test-Driven Development (TDD), Model-Driven Development (MDD), Java, Spring, Hibernate, REST, and Agile methodologies (Scrum) (LinkedIn profile description, Resume). (Word count: 98)"
     ]
    }
   ],
   "source": [
    "for chunk in rag_chain.stream(\n",
    "    question\n",
    "):\n",
    "    print(chunk, end=\"\", flush=True)"
   ]
  },
  {
   "cell_type": "code",
   "execution_count": null,
   "id": "42ac5cc4",
   "metadata": {},
   "outputs": [],
   "source": []
  },
  {
   "cell_type": "code",
   "execution_count": null,
   "id": "1e0683ff",
   "metadata": {},
   "outputs": [],
   "source": []
  }
 ],
 "metadata": {
  "kernelspec": {
   "display_name": "venv",
   "language": "python",
   "name": "python3"
  },
  "language_info": {
   "codemirror_mode": {
    "name": "ipython",
    "version": 3
   },
   "file_extension": ".py",
   "mimetype": "text/x-python",
   "name": "python",
   "nbconvert_exporter": "python",
   "pygments_lexer": "ipython3",
   "version": "3.11.9"
  }
 },
 "nbformat": 4,
 "nbformat_minor": 5
}
